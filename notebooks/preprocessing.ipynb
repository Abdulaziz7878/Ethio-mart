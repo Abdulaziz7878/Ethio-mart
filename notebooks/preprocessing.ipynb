{
  "cells": [
    {
      "cell_type": "code",
      "execution_count": 1,
      "metadata": {
        "id": "Pzq6WnGZbS2w"
      },
      "outputs": [],
      "source": [
        "import sys\n",
        "import os\n",
        "import pandas as pd\n",
        "import re\n",
        "import warnings"
      ]
    },
    {
      "cell_type": "markdown",
      "metadata": {
        "id": "3USyHeVUbM0I"
      },
      "source": [
        "## Data Processing"
      ]
    },
    {
      "cell_type": "code",
      "execution_count": 15,
      "metadata": {
        "id": "lu1Yzk96OyaR"
      },
      "outputs": [],
      "source": [
        "import pandas as pd\n",
        "# df = pd.read_csv('/content/gdrive/MyDrive/telegram_data.csv')\n",
        "df = pd.read_csv('../data/telegram_data.csv')\n",
        "# Set display options to show full text\n",
        "pd.set_option('display.max_colwidth')\n",
        "pd.set_option('display.max_columns')"
      ]
    },
    {
      "cell_type": "code",
      "execution_count": null,
      "metadata": {},
      "outputs": [],
      "source": [
        "def txtToConll(txt_file, conll_file):\n",
        "    with open(txt_file, 'r', encoding='utf-8') as f:\n",
        "        lines = f.readlines()\n",
        "\n",
        "    with open(conll_file, 'w', encoding='utf-8') as f:\n",
        "        for line in lines:\n",
        "            # Assuming each line contains a sentence\n",
        "            tokens = line.strip().split()  # Tokenize by whitespace\n",
        "            \n",
        "            # Example: Assign labels (customize this as necessary)\n",
        "            # For demonstration, we're labeling all tokens as 'O'\n",
        "            # Replace this logic with your actual label assignment\n",
        "            for token in tokens:\n",
        "                # Write each token with its label\n",
        "                f.write(f\"{token} O\\n\")  # Change 'O' to your actual label if needed\n",
        "            \n",
        "            # Add a blank line to separate sentences\n",
        "            f.write(\"\\n\")\n",
        "\n",
        "# Usage\n",
        "txt_file = '../labeled_telegram_product_price_location.txt'  # Path to your input TXT file\n",
        "conll_file = '../labeled_zemen_express.conll'  # Path to save your CoNLL file\n",
        "txtToConll(txt_file, conll_file)"
      ]
    },
    {
      "cell_type": "code",
      "execution_count": 6,
      "metadata": {
        "colab": {
          "base_uri": "https://localhost:8080/"
        },
        "id": "lUbnwZ3ba3DF",
        "outputId": "26ab8d2c-5ef0-4740-ec62-5674fd8e6f8f"
      },
      "outputs": [
        {
          "name": "stdout",
          "output_type": "stream",
          "text": [
            "Checking for NaN values in the 'Message' column:\n",
            "Number of NaN values in 'Message' column: 956\n"
          ]
        }
      ],
      "source": [
        "print(\"Checking for NaN values in the 'Message' column:\")\n",
        "nan_count = df['Message'].isnull().sum()\n",
        "print(f\"Number of NaN values in 'Message' column: {nan_count}\")"
      ]
    },
    {
      "cell_type": "code",
      "execution_count": 4,
      "metadata": {
        "colab": {
          "base_uri": "https://localhost:8080/"
        },
        "id": "ycmP7c-na3DF",
        "outputId": "38b5b476-55d1-4094-a240-8d643bb323a7"
      },
      "outputs": [
        {
          "name": "stdout",
          "output_type": "stream",
          "text": [
            "Dataset shape after dropping NaN values in 'Message' column: (4044, 6)\n"
          ]
        }
      ],
      "source": [
        "df = df.dropna(subset=['Message'])\n",
        "\n",
        "# Print the shape of the dataset after dropping NaN values in the \"Message\" column\n",
        "print(f\"Dataset shape after dropping NaN values in 'Message' column: {df.shape}\")"
      ]
    },
    {
      "cell_type": "code",
      "execution_count": null,
      "metadata": {},
      "outputs": [],
      "source": [
        "df = pd.read"
      ]
    },
    {
      "cell_type": "markdown",
      "metadata": {
        "id": "gSrb13q-UN7A"
      },
      "source": [
        "- check the text"
      ]
    },
    {
      "cell_type": "code",
      "execution_count": 8,
      "metadata": {
        "colab": {
          "base_uri": "https://localhost:8080/"
        },
        "id": "0yzvUmN8UPmQ",
        "outputId": "323ef2cb-673c-48f9-c4a4-47efe1a830ff"
      },
      "outputs": [],
      "source": [
        "text1 = df['Message'].iloc[8]\n",
        "# print(text1)"
      ]
    },
    {
      "cell_type": "code",
      "execution_count": 9,
      "metadata": {
        "colab": {
          "base_uri": "https://localhost:8080/"
        },
        "id": "kEBgdhimW8Ex",
        "outputId": "8da90dc1-f92d-4876-fd6c-170e75ce6489"
      },
      "outputs": [
        {
          "name": "stderr",
          "output_type": "stream",
          "text": [
            "[nltk_data] Downloading package punkt to /root/nltk_data...\n",
            "[nltk_data]   Unzipping tokenizers/punkt.zip.\n"
          ]
        },
        {
          "data": {
            "text/plain": [
              "True"
            ]
          },
          "execution_count": 9,
          "metadata": {},
          "output_type": "execute_result"
        }
      ],
      "source": [
        "from nltk.tokenize import word_tokenize\n",
        "import nltk\n",
        "nltk.download('punkt')"
      ]
    },
    {
      "cell_type": "code",
      "execution_count": 10,
      "metadata": {
        "id": "RrAubM_OpHux"
      },
      "outputs": [],
      "source": [
        "import re\n",
        "def preprocess_text(text):\n",
        "\n",
        "    text = re.sub(r'[^\\w\\s,]', '', text) # Remove emojis\n",
        "    text = re.sub(r'\\.{2,}', '', text) # Remove multiple dots\n",
        "    text = re.sub(r'\\s+', ' ', text).strip() # Remove extra spaces\n",
        "    text = re.sub(r'\\b[a-zA-Z]+\\b', '', text) # Remove English words\n",
        "    # text = re.sub(r'\\b\\d{10,}\\b', '', text) # Remove phone numbers\n",
        "\n",
        "    # Step 1: Identify and label prices\n",
        "    def label_prices(text):\n",
        "        # Find prices with the pattern like '200 ብር'\n",
        "        prices = re.findall(r'\\d+\\s*ብር', text)\n",
        "        # Replace identified prices with a label 'PRICE'\n",
        "        for price in prices:\n",
        "            text = text.replace(price, 'PRICE')\n",
        "        return text,prices\n",
        "    text_with_labeled_prices,prices = label_prices(text)\n",
        "\n",
        "    # Step 2: Remove other numbers while keeping prices intact\n",
        "    cleaned_text = re.sub(r'\\b(?!PRICE\\b)\\d+\\b', '', text_with_labeled_prices)\n",
        "    # cleaned_text = re.sub(r'\\b\\S*\\d+\\S*\\b', '', cleaned_text)  # Remove alphanumerics like 'S05/S06'\n",
        "\n",
        "    # Step 3: Remove 'PRICE' label back to the original price format\n",
        "    # cleaned_text = re.sub(r'\\b\\d+\\b(?!\\s*ብር)', '', text_with_labeled_prices)\n",
        "\n",
        "    # Clean up extra spaces\n",
        "    cleaned_text = re.sub(r'\\s+', ' ', cleaned_text).strip()\n",
        "\n",
        "    # Replace the 'PRICE' label back to the original price format\n",
        "    for price in prices:\n",
        "        cleaned_text = cleaned_text.replace('PRICE', price)\n",
        "\n",
        "    # Step 1: Text Cleaning\n",
        "    cleaned_text = re.sub(r'[A-Za-z]', '', cleaned_text)  # Remove English letters\n",
        "    cleaned_text = re.sub(r'[^\\w\\s]', '', cleaned_text)  # Remove punctuation\n",
        "    cleaned_text = re.sub(r'\\b(ቁ1|ቁ2)', '', cleaned_text) # Removing ቁ1 and ቁ2 from locations\n",
        "    cleaned_text = cleaned_text.replace('_', ' ') # Replacing underscore with space\n",
        "    cleaned_text = re.sub(r'\\s+', ' ', cleaned_text).strip()  # Remove extra spaces\n",
        "    cleaned_text = cleaned_text.replace('0506', '') # Convert to lowercase text.replace('0506', '')\n",
        "    # Step 2: Tokenization\n",
        "    tokens = word_tokenize(cleaned_text)\n",
        "\n",
        "    # Remove unwanted characters (keeping Amharic characters)\n",
        "    # text = re.sub(r'[^አ-ፈ0-9\\s]', '', text)  # Keep only Amharic characters and numbers\n",
        "    return cleaned_text"
      ]
    },
    {
      "cell_type": "code",
      "execution_count": 11,
      "metadata": {
        "colab": {
          "base_uri": "https://localhost:8080/",
          "height": 53
        },
        "id": "p9pquAnkqrss",
        "outputId": "83133573-4e81-416e-c0d1-45ff34289f6d"
      },
      "outputs": [
        {
          "ename": "NameError",
          "evalue": "name 'word_tokenize' is not defined",
          "output_type": "error",
          "traceback": [
            "\u001b[1;31m---------------------------------------------------------------------------\u001b[0m",
            "\u001b[1;31mNameError\u001b[0m                                 Traceback (most recent call last)",
            "Cell \u001b[1;32mIn[11], line 1\u001b[0m\n\u001b[1;32m----> 1\u001b[0m \u001b[43mpreprocess_text\u001b[49m\u001b[43m(\u001b[49m\u001b[43mtext1\u001b[49m\u001b[43m)\u001b[49m\n\u001b[0;32m      2\u001b[0m \u001b[38;5;66;03m# cleaned_text\u001b[39;00m\n",
            "Cell \u001b[1;32mIn[10], line 42\u001b[0m, in \u001b[0;36mpreprocess_text\u001b[1;34m(text)\u001b[0m\n\u001b[0;32m     40\u001b[0m cleaned_text \u001b[38;5;241m=\u001b[39m cleaned_text\u001b[38;5;241m.\u001b[39mreplace(\u001b[38;5;124m'\u001b[39m\u001b[38;5;124m0506\u001b[39m\u001b[38;5;124m'\u001b[39m, \u001b[38;5;124m'\u001b[39m\u001b[38;5;124m'\u001b[39m) \u001b[38;5;66;03m# Convert to lowercase text.replace('0506', '')\u001b[39;00m\n\u001b[0;32m     41\u001b[0m \u001b[38;5;66;03m# Step 2: Tokenization\u001b[39;00m\n\u001b[1;32m---> 42\u001b[0m tokens \u001b[38;5;241m=\u001b[39m \u001b[43mword_tokenize\u001b[49m(cleaned_text)\n\u001b[0;32m     44\u001b[0m \u001b[38;5;66;03m# Remove unwanted characters (keeping Amharic characters)\u001b[39;00m\n\u001b[0;32m     45\u001b[0m \u001b[38;5;66;03m# text = re.sub(r'[^አ-ፈ0-9\\s]', '', text)  # Keep only Amharic characters and numbers\u001b[39;00m\n\u001b[0;32m     46\u001b[0m \u001b[38;5;28;01mreturn\u001b[39;00m cleaned_text\n",
            "\u001b[1;31mNameError\u001b[0m: name 'word_tokenize' is not defined"
          ]
        }
      ],
      "source": [
        "preprocess_text(text1)\n",
        "# cleaned_text"
      ]
    },
    {
      "cell_type": "code",
      "execution_count": 42,
      "metadata": {
        "colab": {
          "base_uri": "https://localhost:8080/"
        },
        "id": "YPNp7y5nosH_",
        "outputId": "11b5f47b-9bae-486a-9fd8-7f2ed12e4efb"
      },
      "outputs": [
        {
          "data": {
            "text/plain": [
              "61"
            ]
          },
          "execution_count": 42,
          "metadata": {},
          "output_type": "execute_result"
        }
      ],
      "source": [
        "len(tokens)"
      ]
    },
    {
      "cell_type": "code",
      "execution_count": 43,
      "metadata": {
        "colab": {
          "base_uri": "https://localhost:8080/"
        },
        "id": "iRwIdZQQoesE",
        "outputId": "f59f71f3-bd3d-431c-c2a3-c7254a053644"
      },
      "outputs": [
        {
          "data": {
            "text/plain": [
              "<1x54 sparse matrix of type '<class 'numpy.float64'>'\n",
              "\twith 54 stored elements in Compressed Sparse Row format>"
            ]
          },
          "execution_count": 43,
          "metadata": {},
          "output_type": "execute_result"
        }
      ],
      "source": [
        "from sklearn.feature_extraction.text import TfidfVectorizer\n",
        "\n",
        "vectorizer = TfidfVectorizer()\n",
        "X = vectorizer.fit_transform([' '.join(tokens)])\n",
        "X.toarray()\n",
        "X"
      ]
    },
    {
      "cell_type": "code",
      "execution_count": 15,
      "metadata": {
        "id": "RhA44hHnrEDu"
      },
      "outputs": [],
      "source": [
        "dft = df.copy()\n"
      ]
    },
    {
      "cell_type": "code",
      "execution_count": 16,
      "metadata": {
        "id": "zMzoEPhUrJy6"
      },
      "outputs": [],
      "source": [
        "dft['cleaned_message'] = dft['Message'].apply(preprocess_text)"
      ]
    },
    {
      "cell_type": "markdown",
      "metadata": {
        "id": "MYpOqwfIh3xW"
      },
      "source": [
        "- better so far"
      ]
    },
    {
      "cell_type": "code",
      "execution_count": 39,
      "metadata": {
        "id": "exXihjTwa3DI"
      },
      "outputs": [],
      "source": [
        "import re\n",
        "\n",
        "def label_message_utf8_with_birr(message):\n",
        "    # # Split the message at the first occurrence of '\\n'\n",
        "    # if '\\n' in message:\n",
        "    #     first_line, remaining_message = message.split('\\n', 1)\n",
        "    # else:\n",
        "    #     first_line, remaining_message = message, \"\"\n",
        "\n",
        "    labeled_tokens = []\n",
        "    location_listB = [ 'ፒያሳ',  'መገናኛ']\n",
        "    location_listI = ['መሰረት', 'ደፋር', 'ሞል', 'ጊዮርጊስ', 'አደባባይ', 'ራመት', 'ታቦር', 'ኦዳ', 'ህንፃ','ደራርቱ', 'ህንፃ']\n",
        "\n",
        "    # # Tokenize the first line\n",
        "    # first_line_tokens = re.findall(r'\\S+', first_line)\n",
        "\n",
        "    # # Label the first token as B-PRODUCT and the rest as I-PRODUCT\n",
        "    # if first_line_tokens:\n",
        "    #     labeled_tokens.append(f\"{first_line_tokens[0]} B-PRODUCT\")  # First token as B-PRODUCT\n",
        "    #     for token in first_line_tokens[1:]:\n",
        "    #         labeled_tokens.append(f\"{token} I-PRODUCT\")  # Remaining tokens as I-PRODUCT\n",
        "\n",
        "    # Process the remaining message normally\n",
        "    if message:\n",
        "        lines = message.split('\\n')\n",
        "        for line in lines:\n",
        "            tokens = re.findall(r'\\S+', line)  # Tokenize each line while considering non-ASCII characters\n",
        "\n",
        "            for token in tokens:\n",
        "                # Check if token is a price (e.g., 500 ETB, $100, or ብር)\n",
        "                if re.match(r'^\\d{10,}$', token):\n",
        "                    labeled_tokens.append(f\"{token} O\")  # Label as O for \"other\" or outside of any entity\n",
        "                elif 'ዋጋ' in token:\n",
        "                    labeled_tokens.append(f\"{token} B-PRICE\")\n",
        "                # elif re.match(r'^\\d+(\\.\\d{1,2})?$', token) and 'ብር' in token or 'ETB' in token or '$' in token or 'ብር' in token:\n",
        "                #     labeled_tokens.append(f\"{token} I-PRICE\")\n",
        "                # elif re.search(r'\\b(ዋጋ|ብር)\\b', token):\n",
        "                #     # Extract the numeric part if it's a valid price\n",
        "                #     price_match = re.search(r'(?<!\\d)(0|[1-9]\\d*)(\\.\\d{1,2})?', token)\n",
        "                #     if price_match:\n",
        "                #         labeled_tokens.append(f\"{price_match.group()} I-PRICE\")  # Label the price\n",
        "                #         # numbers_only.append(price_match.group())  # Store the number only\n",
        "                # Check if token could be a location (e.g., cities or general location names)\n",
        "                elif re.match(r'^\\d+(\\.\\d{1,2})?$', token) or 'ብር' in token:\n",
        "                    labeled_tokens.append(f\"{token} I-PRICE\")\n",
        "                elif re.match(r'^\\d+(\\.\\d{1,2})?\\s*ብር$', token):\n",
        "                    labeled_tokens.append(f\"{token} I-PRICE\")\n",
        "                elif 'ብር' in token:\n",
        "                    labeled_tokens.append(f\"{token} I-PRICE\")\n",
        "                elif any(loc in token for loc in location_listB):\n",
        "                    labeled_tokens.append(f\"{token} B-LOC\")\n",
        "                elif any(loc in token for loc in location_listI):\n",
        "                    labeled_tokens.append(f\"{token} I-LOC\")\n",
        "                # Assume other tokens are part of a product name or general text\n",
        "                else:\n",
        "                    labeled_tokens.append(f\"{token} O\")\n",
        "\n",
        "    return \"\\n\".join(labeled_tokens)\n",
        "\n",
        "\n",
        "\n",
        "\n"
      ]
    },
    {
      "cell_type": "code",
      "execution_count": 40,
      "metadata": {
        "id": "SW53fLVTzwvH"
      },
      "outputs": [],
      "source": [
        "# Apply the updated function to the non-null messages\n",
        "dft['Labeled_Message'] = dft['cleaned_message'].apply(label_message_utf8_with_birr)"
      ]
    },
    {
      "cell_type": "code",
      "execution_count": 41,
      "metadata": {
        "colab": {
          "base_uri": "https://localhost:8080/",
          "height": 588
        },
        "id": "jED4LxXXiOLY",
        "outputId": "ed2d867e-0520-41d8-8f51-a0a6ce74f0f9"
      },
      "outputs": [
        {
          "data": {
            "application/vnd.google.colaboratory.intrinsic+json": {
              "summary": "{\n  \"name\": \"dft[['cleaned_message', 'Labeled_Message']]\",\n  \"rows\": 5,\n  \"fields\": [\n    {\n      \"column\": \"cleaned_message\",\n      \"properties\": {\n        \"dtype\": \"string\",\n        \"num_unique_values\": 4,\n        \"samples\": [\n          \"\\u12a8\\u1265\\u1228\\u1275 \\u12e8\\u1270\\u1230\\u122b \\u132b\\u121b \\u12a5\\u1293 \\u12e8\\u1270\\u1208\\u12eb\\u12e9 \\u12d5\\u1243\\u12c8\\u127d \\u121b\\u1235\\u1240\\u1218\\u132b \\u1208\\u1218\\u1308\\u1323\\u1320\\u121d \\u1240\\u120b\\u120d \\u1263\\u1208 \\u1235\\u12f5\\u1235\\u1275 \\u1218\\u12f0\\u122d\\u12f0\\u122a\\u12eb \\u12eb\\u1208\\u12cd \\u12cb\\u130b 2250 \\u1265\\u122d \\u12a0\\u12f5\\u122b\\u123b \\u1218\\u1308\\u1293\\u129b \\u1218\\u1230\\u1228\\u1275 \\u12f0\\u134b\\u122d \\u121e\\u120d \\u1201\\u1208\\u1270\\u129b \\u134e\\u1245 \\u1262\\u122e \\u1241  \\u1352\\u12eb\\u1233 \\u130a\\u12ee\\u122d\\u130a\\u1235 \\u12a0\\u12f0\\u1263\\u1263\\u12ed \\u122b\\u1218\\u1275 \\u1273\\u1266\\u122d \\u12a6\\u12f3 \\u1205\\u1295\\u1343 1\\u129b \\u134e\\u1245 \\u1231\\u1245 \\u1241 1 \\u1352\\u12eb\\u1233 \\u1245\\u122d\\u1295\\u132b\\u134d \\u1260 \\u1208\\u121b\\u12d8\\u12dd \\u12ed\\u1320\\u1240\\u1219 \\u1208\\u1270\\u1328\\u121b\\u122a \\u121b\\u1265\\u122b\\u122a\\u12eb \\u12e8\\u1274\\u120c\\u130d\\u122b\\u121d \\u1308\\u1343\\u127d\\u1295\",\n          \"\\u12cb\\u130b 150 \\u1265\\u122d \\u12cd\\u1235\\u1295 \\u134d\\u122c \\u1290\\u12cd \\u12eb\\u1208\\u12cd \\u12a0\\u12f5\\u122b\\u123b \\u1218\\u1308\\u1293\\u129b \\u1218\\u1230\\u1228\\u1275 \\u12f0\\u134b\\u122d \\u121e\\u120d \\u1201\\u1208\\u1270\\u129b \\u134e\\u1245 \\u1262\\u122e \\u1241  \\u1352\\u12eb\\u1233 \\u130a\\u12ee\\u122d\\u130a\\u1235 \\u12a0\\u12f0\\u1263\\u1263\\u12ed \\u122b\\u1218\\u1275 \\u1273\\u1266\\u122d \\u12a6\\u12f3 \\u1205\\u1295\\u1343 1\\u129b \\u134e\\u1245 \\u1231\\u1245 \\u1241 1 \\u1352\\u12eb\\u1233 \\u1245\\u122d\\u1295\\u132b\\u134d \\u1260 \\u1208\\u121b\\u12d8\\u12dd \\u12ed\\u1320\\u1240\\u1219 \\u1208\\u1270\\u1328\\u121b\\u122a \\u121b\\u1265\\u122b\\u122a\\u12eb \\u12e8\\u1274\\u120c\\u130d\\u122b\\u121d \\u1308\\u1343\\u127d\\u1295\",\n          \"\\u12e8\\u121e\\u1270 \\u1246\\u12f3\\u1295 \\u12a5\\u1295\\u12f2\\u1201\\u121d \\u1246\\u123b\\u123b\\u1295 \\u1208\\u121b\\u1345\\u12f3\\u1275 \\u1270\\u1218\\u122b\\u132d \\u12cb\\u130b 200 \\u1265\\u122d \\u12cd\\u1235\\u1295 \\u134d\\u122c \\u1290\\u12cd \\u12eb\\u1208\\u12cd \\u12a0\\u12f5\\u122b\\u123b \\u1218\\u1308\\u1293\\u129b \\u1218\\u1230\\u1228\\u1275 \\u12f0\\u134b\\u122d \\u121e\\u120d \\u1201\\u1208\\u1270\\u129b \\u134e\\u1245 \\u1262\\u122e \\u1241  \\u1352\\u12eb\\u1233 \\u130a\\u12ee\\u122d\\u130a\\u1235 \\u12a0\\u12f0\\u1263\\u1263\\u12ed \\u122b\\u1218\\u1275 \\u1273\\u1266\\u122d \\u12a6\\u12f3 \\u1205\\u1295\\u1343 1\\u129b \\u134e\\u1245 \\u1231\\u1245 \\u1241 1 \\u1352\\u12eb\\u1233 \\u1245\\u122d\\u1295\\u132b\\u134d \\u1260 \\u1208\\u121b\\u12d8\\u12dd \\u12ed\\u1320\\u1240\\u1219 \\u1208\\u1270\\u1328\\u121b\\u122a \\u121b\\u1265\\u122b\\u122a\\u12eb \\u12e8\\u1274\\u120c\\u130d\\u122b\\u121d \\u1308\\u1343\\u127d\\u1295\"\n        ],\n        \"semantic_type\": \"\",\n        \"description\": \"\"\n      }\n    },\n    {\n      \"column\": \"Labeled_Message\",\n      \"properties\": {\n        \"dtype\": \"string\",\n        \"num_unique_values\": 4,\n        \"samples\": [\n          \"\\u12a8\\u1265\\u1228\\u1275 O\\n\\u12e8\\u1270\\u1230\\u122b O\\n\\u132b\\u121b O\\n\\u12a5\\u1293 O\\n\\u12e8\\u1270\\u1208\\u12eb\\u12e9 O\\n\\u12d5\\u1243\\u12c8\\u127d O\\n\\u121b\\u1235\\u1240\\u1218\\u132b O\\n\\u1208\\u1218\\u1308\\u1323\\u1320\\u121d O\\n\\u1240\\u120b\\u120d O\\n\\u1263\\u1208 O\\n\\u1235\\u12f5\\u1235\\u1275 O\\n\\u1218\\u12f0\\u122d\\u12f0\\u122a\\u12eb O\\n\\u12eb\\u1208\\u12cd O\\n\\u12cb\\u130b B-PRICE\\n2250 I-PRICE\\n\\u1265\\u122d I-PRICE\\n\\u12a0\\u12f5\\u122b\\u123b O\\n\\u1218\\u1308\\u1293\\u129b B-LOC\\n\\u1218\\u1230\\u1228\\u1275 I-LOC\\n\\u12f0\\u134b\\u122d I-LOC\\n\\u121e\\u120d I-LOC\\n\\u1201\\u1208\\u1270\\u129b O\\n\\u134e\\u1245 O\\n\\u1262\\u122e O\\n\\u1241 O\\n\\u1352\\u12eb\\u1233 B-LOC\\n\\u130a\\u12ee\\u122d\\u130a\\u1235 I-LOC\\n\\u12a0\\u12f0\\u1263\\u1263\\u12ed I-LOC\\n\\u122b\\u1218\\u1275 I-LOC\\n\\u1273\\u1266\\u122d I-LOC\\n\\u12a6\\u12f3 I-LOC\\n\\u1205\\u1295\\u1343 I-LOC\\n1\\u129b O\\n\\u134e\\u1245 O\\n\\u1231\\u1245 O\\n\\u1241 O\\n1 I-PRICE\\n\\u1352\\u12eb\\u1233 B-LOC\\n\\u1245\\u122d\\u1295\\u132b\\u134d O\\n\\u1260 O\\n\\u1208\\u121b\\u12d8\\u12dd O\\n\\u12ed\\u1320\\u1240\\u1219 O\\n\\u1208\\u1270\\u1328\\u121b\\u122a O\\n\\u121b\\u1265\\u122b\\u122a\\u12eb O\\n\\u12e8\\u1274\\u120c\\u130d\\u122b\\u121d O\\n\\u1308\\u1343\\u127d\\u1295 O\",\n          \"\\u12cb\\u130b B-PRICE\\n150 I-PRICE\\n\\u1265\\u122d I-PRICE\\n\\u12cd\\u1235\\u1295 O\\n\\u134d\\u122c O\\n\\u1290\\u12cd O\\n\\u12eb\\u1208\\u12cd O\\n\\u12a0\\u12f5\\u122b\\u123b O\\n\\u1218\\u1308\\u1293\\u129b B-LOC\\n\\u1218\\u1230\\u1228\\u1275 I-LOC\\n\\u12f0\\u134b\\u122d I-LOC\\n\\u121e\\u120d I-LOC\\n\\u1201\\u1208\\u1270\\u129b O\\n\\u134e\\u1245 O\\n\\u1262\\u122e O\\n\\u1241 O\\n\\u1352\\u12eb\\u1233 B-LOC\\n\\u130a\\u12ee\\u122d\\u130a\\u1235 I-LOC\\n\\u12a0\\u12f0\\u1263\\u1263\\u12ed I-LOC\\n\\u122b\\u1218\\u1275 I-LOC\\n\\u1273\\u1266\\u122d I-LOC\\n\\u12a6\\u12f3 I-LOC\\n\\u1205\\u1295\\u1343 I-LOC\\n1\\u129b O\\n\\u134e\\u1245 O\\n\\u1231\\u1245 O\\n\\u1241 O\\n1 I-PRICE\\n\\u1352\\u12eb\\u1233 B-LOC\\n\\u1245\\u122d\\u1295\\u132b\\u134d O\\n\\u1260 O\\n\\u1208\\u121b\\u12d8\\u12dd O\\n\\u12ed\\u1320\\u1240\\u1219 O\\n\\u1208\\u1270\\u1328\\u121b\\u122a O\\n\\u121b\\u1265\\u122b\\u122a\\u12eb O\\n\\u12e8\\u1274\\u120c\\u130d\\u122b\\u121d O\\n\\u1308\\u1343\\u127d\\u1295 O\",\n          \"\\u12e8\\u121e\\u1270 O\\n\\u1246\\u12f3\\u1295 O\\n\\u12a5\\u1295\\u12f2\\u1201\\u121d O\\n\\u1246\\u123b\\u123b\\u1295 O\\n\\u1208\\u121b\\u1345\\u12f3\\u1275 O\\n\\u1270\\u1218\\u122b\\u132d O\\n\\u12cb\\u130b B-PRICE\\n200 I-PRICE\\n\\u1265\\u122d I-PRICE\\n\\u12cd\\u1235\\u1295 O\\n\\u134d\\u122c O\\n\\u1290\\u12cd O\\n\\u12eb\\u1208\\u12cd O\\n\\u12a0\\u12f5\\u122b\\u123b O\\n\\u1218\\u1308\\u1293\\u129b B-LOC\\n\\u1218\\u1230\\u1228\\u1275 I-LOC\\n\\u12f0\\u134b\\u122d I-LOC\\n\\u121e\\u120d I-LOC\\n\\u1201\\u1208\\u1270\\u129b O\\n\\u134e\\u1245 O\\n\\u1262\\u122e O\\n\\u1241 O\\n\\u1352\\u12eb\\u1233 B-LOC\\n\\u130a\\u12ee\\u122d\\u130a\\u1235 I-LOC\\n\\u12a0\\u12f0\\u1263\\u1263\\u12ed I-LOC\\n\\u122b\\u1218\\u1275 I-LOC\\n\\u1273\\u1266\\u122d I-LOC\\n\\u12a6\\u12f3 I-LOC\\n\\u1205\\u1295\\u1343 I-LOC\\n1\\u129b O\\n\\u134e\\u1245 O\\n\\u1231\\u1245 O\\n\\u1241 O\\n1 I-PRICE\\n\\u1352\\u12eb\\u1233 B-LOC\\n\\u1245\\u122d\\u1295\\u132b\\u134d O\\n\\u1260 O\\n\\u1208\\u121b\\u12d8\\u12dd O\\n\\u12ed\\u1320\\u1240\\u1219 O\\n\\u1208\\u1270\\u1328\\u121b\\u122a O\\n\\u121b\\u1265\\u122b\\u122a\\u12eb O\\n\\u12e8\\u1274\\u120c\\u130d\\u122b\\u121d O\\n\\u1308\\u1343\\u127d\\u1295 O\"\n        ],\n        \"semantic_type\": \"\",\n        \"description\": \"\"\n      }\n    }\n  ]\n}",
              "type": "dataframe"
            },
            "text/html": [
              "\n",
              "  <div id=\"df-e87d64e8-e6ff-4dc1-bf2f-551d2b57b870\" class=\"colab-df-container\">\n",
              "    <div>\n",
              "<style scoped>\n",
              "    .dataframe tbody tr th:only-of-type {\n",
              "        vertical-align: middle;\n",
              "    }\n",
              "\n",
              "    .dataframe tbody tr th {\n",
              "        vertical-align: top;\n",
              "    }\n",
              "\n",
              "    .dataframe thead th {\n",
              "        text-align: right;\n",
              "    }\n",
              "</style>\n",
              "<table border=\"1\" class=\"dataframe\">\n",
              "  <thead>\n",
              "    <tr style=\"text-align: right;\">\n",
              "      <th></th>\n",
              "      <th>cleaned_message</th>\n",
              "      <th>Labeled_Message</th>\n",
              "    </tr>\n",
              "  </thead>\n",
              "  <tbody>\n",
              "    <tr>\n",
              "      <th>0</th>\n",
              "      <td>የሞተ ቆዳን እንዲሁም ቆሻሻን ለማፅዳት ተመራጭ ዋጋ 200 ብር ውስን ፍሬ ነው ያለው አድራሻ መገናኛ መሰረት ደፋር ሞል ሁለተኛ ፎቅ ቢሮ ቁ  ፒያሳ ጊዮርጊስ አደባባይ ራመት ታቦር ኦዳ ህንፃ 1ኛ ፎቅ ሱቅ ቁ 1 ፒያሳ ቅርንጫፍ በ ለማዘዝ ይጠቀሙ ለተጨማሪ ማብራሪያ የቴሌግራም ገፃችን</td>\n",
              "      <td>የሞተ O\\nቆዳን O\\nእንዲሁም O\\nቆሻሻን O\\nለማፅዳት O\\nተመራጭ O\\nዋጋ B-PRICE\\n200 I-PRICE\\nብር I-PRICE\\nውስን O\\nፍሬ O\\nነው O\\nያለው O\\nአድራሻ O\\nመገናኛ B-LOC\\nመሰረት I-LOC\\nደፋር I-LOC\\nሞል I-LOC\\nሁለተኛ O\\nፎቅ O\\nቢሮ O\\nቁ O\\nፒያሳ B-LOC\\nጊዮርጊስ I-LOC\\nአደባባይ I-LOC\\nራመት I-LOC\\nታቦር I-LOC\\nኦዳ I-LOC\\nህንፃ I-LOC\\n1ኛ O\\nፎቅ O\\nሱቅ O\\nቁ O\\n1 I-PRICE\\nፒያሳ B-LOC\\nቅርንጫፍ O\\nበ O\\nለማዘዝ O\\nይጠቀሙ O\\nለተጨማሪ O\\nማብራሪያ O\\nየቴሌግራም O\\nገፃችን O</td>\n",
              "    </tr>\n",
              "    <tr>\n",
              "      <th>1</th>\n",
              "      <td>የሞተ ቆዳን እንዲሁም ቆሻሻን ለማፅዳት ተመራጭ ዋጋ 200 ብር ውስን ፍሬ ነው ያለው አድራሻ መገናኛ መሰረት ደፋር ሞል ሁለተኛ ፎቅ ቢሮ ቁ  ፒያሳ ጊዮርጊስ አደባባይ ራመት ታቦር ኦዳ ህንፃ 1ኛ ፎቅ ሱቅ ቁ 1 ፒያሳ ቅርንጫፍ በ ለማዘዝ ይጠቀሙ ለተጨማሪ ማብራሪያ የቴሌግራም ገፃችን</td>\n",
              "      <td>የሞተ O\\nቆዳን O\\nእንዲሁም O\\nቆሻሻን O\\nለማፅዳት O\\nተመራጭ O\\nዋጋ B-PRICE\\n200 I-PRICE\\nብር I-PRICE\\nውስን O\\nፍሬ O\\nነው O\\nያለው O\\nአድራሻ O\\nመገናኛ B-LOC\\nመሰረት I-LOC\\nደፋር I-LOC\\nሞል I-LOC\\nሁለተኛ O\\nፎቅ O\\nቢሮ O\\nቁ O\\nፒያሳ B-LOC\\nጊዮርጊስ I-LOC\\nአደባባይ I-LOC\\nራመት I-LOC\\nታቦር I-LOC\\nኦዳ I-LOC\\nህንፃ I-LOC\\n1ኛ O\\nፎቅ O\\nሱቅ O\\nቁ O\\n1 I-PRICE\\nፒያሳ B-LOC\\nቅርንጫፍ O\\nበ O\\nለማዘዝ O\\nይጠቀሙ O\\nለተጨማሪ O\\nማብራሪያ O\\nየቴሌግራም O\\nገፃችን O</td>\n",
              "    </tr>\n",
              "    <tr>\n",
              "      <th>2</th>\n",
              "      <td>ከብረት የተሰራ ጫማ እና የተለያዩ ዕቃወች ማስቀመጫ ለመገጣጠም ቀላል ባለ ስድስት መደርደሪያ ያለው ዋጋ 2250 ብር አድራሻ መገናኛ መሰረት ደፋር ሞል ሁለተኛ ፎቅ ቢሮ ቁ  ፒያሳ ጊዮርጊስ አደባባይ ራመት ታቦር ኦዳ ህንፃ 1ኛ ፎቅ ሱቅ ቁ 1 ፒያሳ ቅርንጫፍ በ ለማዘዝ ይጠቀሙ ለተጨማሪ ማብራሪያ የቴሌግራም ገፃችን</td>\n",
              "      <td>ከብረት O\\nየተሰራ O\\nጫማ O\\nእና O\\nየተለያዩ O\\nዕቃወች O\\nማስቀመጫ O\\nለመገጣጠም O\\nቀላል O\\nባለ O\\nስድስት O\\nመደርደሪያ O\\nያለው O\\nዋጋ B-PRICE\\n2250 I-PRICE\\nብር I-PRICE\\nአድራሻ O\\nመገናኛ B-LOC\\nመሰረት I-LOC\\nደፋር I-LOC\\nሞል I-LOC\\nሁለተኛ O\\nፎቅ O\\nቢሮ O\\nቁ O\\nፒያሳ B-LOC\\nጊዮርጊስ I-LOC\\nአደባባይ I-LOC\\nራመት I-LOC\\nታቦር I-LOC\\nኦዳ I-LOC\\nህንፃ I-LOC\\n1ኛ O\\nፎቅ O\\nሱቅ O\\nቁ O\\n1 I-PRICE\\nፒያሳ B-LOC\\nቅርንጫፍ O\\nበ O\\nለማዘዝ O\\nይጠቀሙ O\\nለተጨማሪ O\\nማብራሪያ O\\nየቴሌግራም O\\nገፃችን O</td>\n",
              "    </tr>\n",
              "    <tr>\n",
              "      <th>3</th>\n",
              "      <td>ዘመናዊ የልብስ ማስቀመጫ ቁምሳጥን በቀላሉ የሚገጣጠም የሚነቃቀል ከቦታ ወደ ቦታ ለማንቀሳቀስ የሚመች ቀላል ክብደት ያለው ባለ ዚፕ የሸራ ልብስ ያለው ፍሬሞቹ የብረት ቱቦዎች የሆኑ መገጣጠሚያዎቹ ጠንካራ ካርቦኔትድ ፕላስቲኮች የሆኑ ለቤትዎ ውበት የሚሠጥ ቦታ የማይዝ ሲሆን ቁመት ሳሜ የጎን ስፋት ሳሜ ወርድ ሳሜ ዋጋ 3500 ብር ውስን ፍሬ ነው ያለው አድራሻ መገናኛ መሰረት ደፋር ሞል ሁለተኛ ፎቅ ቢሮ ቁ  ፒያሳ ጊዮርጊስ አደባባይ ራመት ታቦር ኦዳ ህንፃ 1ኛ ፎቅ ሱቅ ቁ 1 ፒያሳ ቅርንጫፍ በ ለማዘዝ ይጠቀሙ ለተጨማሪ ማብራሪያ የቴሌግራም ገፃችን</td>\n",
              "      <td>ዘመናዊ O\\nየልብስ O\\nማስቀመጫ O\\nቁምሳጥን O\\nበቀላሉ O\\nየሚገጣጠም O\\nየሚነቃቀል O\\nከቦታ O\\nወደ O\\nቦታ O\\nለማንቀሳቀስ O\\nየሚመች O\\nቀላል O\\nክብደት O\\nያለው O\\nባለ O\\nዚፕ O\\nየሸራ O\\nልብስ O\\nያለው O\\nፍሬሞቹ O\\nየብረት O\\nቱቦዎች O\\nየሆኑ O\\nመገጣጠሚያዎቹ O\\nጠንካራ O\\nካርቦኔትድ O\\nፕላስቲኮች O\\nየሆኑ O\\nለቤትዎ O\\nውበት O\\nየሚሠጥ O\\nቦታ O\\nየማይዝ O\\nሲሆን O\\nቁመት O\\nሳሜ O\\nየጎን O\\nስፋት O\\nሳሜ O\\nወርድ O\\nሳሜ O\\nዋጋ B-PRICE\\n3500 I-PRICE\\nብር I-PRICE\\nውስን O\\nፍሬ O\\nነው O\\nያለው O\\nአድራሻ O\\nመገናኛ B-LOC\\nመሰረት I-LOC\\nደፋር I-LOC\\nሞል I-LOC\\nሁለተኛ O\\nፎቅ O\\nቢሮ O\\nቁ O\\nፒያሳ B-LOC\\nጊዮርጊስ I-LOC\\nአደባባይ I-LOC\\nራመት I-LOC\\nታቦር I-LOC\\nኦዳ I-LOC\\nህንፃ I-LOC\\n1ኛ O\\nፎቅ O\\nሱቅ O\\nቁ O\\n1 I-PRICE\\nፒያሳ B-LOC\\nቅርንጫፍ O\\nበ O\\nለማዘዝ O\\nይጠቀሙ O\\nለተጨማሪ O\\nማብራሪያ O\\nየቴሌግራም O\\nገፃችን O</td>\n",
              "    </tr>\n",
              "    <tr>\n",
              "      <th>8</th>\n",
              "      <td>ዋጋ 150 ብር ውስን ፍሬ ነው ያለው አድራሻ መገናኛ መሰረት ደፋር ሞል ሁለተኛ ፎቅ ቢሮ ቁ  ፒያሳ ጊዮርጊስ አደባባይ ራመት ታቦር ኦዳ ህንፃ 1ኛ ፎቅ ሱቅ ቁ 1 ፒያሳ ቅርንጫፍ በ ለማዘዝ ይጠቀሙ ለተጨማሪ ማብራሪያ የቴሌግራም ገፃችን</td>\n",
              "      <td>ዋጋ B-PRICE\\n150 I-PRICE\\nብር I-PRICE\\nውስን O\\nፍሬ O\\nነው O\\nያለው O\\nአድራሻ O\\nመገናኛ B-LOC\\nመሰረት I-LOC\\nደፋር I-LOC\\nሞል I-LOC\\nሁለተኛ O\\nፎቅ O\\nቢሮ O\\nቁ O\\nፒያሳ B-LOC\\nጊዮርጊስ I-LOC\\nአደባባይ I-LOC\\nራመት I-LOC\\nታቦር I-LOC\\nኦዳ I-LOC\\nህንፃ I-LOC\\n1ኛ O\\nፎቅ O\\nሱቅ O\\nቁ O\\n1 I-PRICE\\nፒያሳ B-LOC\\nቅርንጫፍ O\\nበ O\\nለማዘዝ O\\nይጠቀሙ O\\nለተጨማሪ O\\nማብራሪያ O\\nየቴሌግራም O\\nገፃችን O</td>\n",
              "    </tr>\n",
              "  </tbody>\n",
              "</table>\n",
              "</div>\n",
              "    <div class=\"colab-df-buttons\">\n",
              "\n",
              "  <div class=\"colab-df-container\">\n",
              "    <button class=\"colab-df-convert\" onclick=\"convertToInteractive('df-e87d64e8-e6ff-4dc1-bf2f-551d2b57b870')\"\n",
              "            title=\"Convert this dataframe to an interactive table.\"\n",
              "            style=\"display:none;\">\n",
              "\n",
              "  <svg xmlns=\"http://www.w3.org/2000/svg\" height=\"24px\" viewBox=\"0 -960 960 960\">\n",
              "    <path d=\"M120-120v-720h720v720H120Zm60-500h600v-160H180v160Zm220 220h160v-160H400v160Zm0 220h160v-160H400v160ZM180-400h160v-160H180v160Zm440 0h160v-160H620v160ZM180-180h160v-160H180v160Zm440 0h160v-160H620v160Z\"/>\n",
              "  </svg>\n",
              "    </button>\n",
              "\n",
              "  <style>\n",
              "    .colab-df-container {\n",
              "      display:flex;\n",
              "      gap: 12px;\n",
              "    }\n",
              "\n",
              "    .colab-df-convert {\n",
              "      background-color: #E8F0FE;\n",
              "      border: none;\n",
              "      border-radius: 50%;\n",
              "      cursor: pointer;\n",
              "      display: none;\n",
              "      fill: #1967D2;\n",
              "      height: 32px;\n",
              "      padding: 0 0 0 0;\n",
              "      width: 32px;\n",
              "    }\n",
              "\n",
              "    .colab-df-convert:hover {\n",
              "      background-color: #E2EBFA;\n",
              "      box-shadow: 0px 1px 2px rgba(60, 64, 67, 0.3), 0px 1px 3px 1px rgba(60, 64, 67, 0.15);\n",
              "      fill: #174EA6;\n",
              "    }\n",
              "\n",
              "    .colab-df-buttons div {\n",
              "      margin-bottom: 4px;\n",
              "    }\n",
              "\n",
              "    [theme=dark] .colab-df-convert {\n",
              "      background-color: #3B4455;\n",
              "      fill: #D2E3FC;\n",
              "    }\n",
              "\n",
              "    [theme=dark] .colab-df-convert:hover {\n",
              "      background-color: #434B5C;\n",
              "      box-shadow: 0px 1px 3px 1px rgba(0, 0, 0, 0.15);\n",
              "      filter: drop-shadow(0px 1px 2px rgba(0, 0, 0, 0.3));\n",
              "      fill: #FFFFFF;\n",
              "    }\n",
              "  </style>\n",
              "\n",
              "    <script>\n",
              "      const buttonEl =\n",
              "        document.querySelector('#df-e87d64e8-e6ff-4dc1-bf2f-551d2b57b870 button.colab-df-convert');\n",
              "      buttonEl.style.display =\n",
              "        google.colab.kernel.accessAllowed ? 'block' : 'none';\n",
              "\n",
              "      async function convertToInteractive(key) {\n",
              "        const element = document.querySelector('#df-e87d64e8-e6ff-4dc1-bf2f-551d2b57b870');\n",
              "        const dataTable =\n",
              "          await google.colab.kernel.invokeFunction('convertToInteractive',\n",
              "                                                    [key], {});\n",
              "        if (!dataTable) return;\n",
              "\n",
              "        const docLinkHtml = 'Like what you see? Visit the ' +\n",
              "          '<a target=\"_blank\" href=https://colab.research.google.com/notebooks/data_table.ipynb>data table notebook</a>'\n",
              "          + ' to learn more about interactive tables.';\n",
              "        element.innerHTML = '';\n",
              "        dataTable['output_type'] = 'display_data';\n",
              "        await google.colab.output.renderOutput(dataTable, element);\n",
              "        const docLink = document.createElement('div');\n",
              "        docLink.innerHTML = docLinkHtml;\n",
              "        element.appendChild(docLink);\n",
              "      }\n",
              "    </script>\n",
              "  </div>\n",
              "\n",
              "\n",
              "<div id=\"df-605cf40b-6a73-4be5-b1d1-c63a03896cc4\">\n",
              "  <button class=\"colab-df-quickchart\" onclick=\"quickchart('df-605cf40b-6a73-4be5-b1d1-c63a03896cc4')\"\n",
              "            title=\"Suggest charts\"\n",
              "            style=\"display:none;\">\n",
              "\n",
              "<svg xmlns=\"http://www.w3.org/2000/svg\" height=\"24px\"viewBox=\"0 0 24 24\"\n",
              "     width=\"24px\">\n",
              "    <g>\n",
              "        <path d=\"M19 3H5c-1.1 0-2 .9-2 2v14c0 1.1.9 2 2 2h14c1.1 0 2-.9 2-2V5c0-1.1-.9-2-2-2zM9 17H7v-7h2v7zm4 0h-2V7h2v10zm4 0h-2v-4h2v4z\"/>\n",
              "    </g>\n",
              "</svg>\n",
              "  </button>\n",
              "\n",
              "<style>\n",
              "  .colab-df-quickchart {\n",
              "      --bg-color: #E8F0FE;\n",
              "      --fill-color: #1967D2;\n",
              "      --hover-bg-color: #E2EBFA;\n",
              "      --hover-fill-color: #174EA6;\n",
              "      --disabled-fill-color: #AAA;\n",
              "      --disabled-bg-color: #DDD;\n",
              "  }\n",
              "\n",
              "  [theme=dark] .colab-df-quickchart {\n",
              "      --bg-color: #3B4455;\n",
              "      --fill-color: #D2E3FC;\n",
              "      --hover-bg-color: #434B5C;\n",
              "      --hover-fill-color: #FFFFFF;\n",
              "      --disabled-bg-color: #3B4455;\n",
              "      --disabled-fill-color: #666;\n",
              "  }\n",
              "\n",
              "  .colab-df-quickchart {\n",
              "    background-color: var(--bg-color);\n",
              "    border: none;\n",
              "    border-radius: 50%;\n",
              "    cursor: pointer;\n",
              "    display: none;\n",
              "    fill: var(--fill-color);\n",
              "    height: 32px;\n",
              "    padding: 0;\n",
              "    width: 32px;\n",
              "  }\n",
              "\n",
              "  .colab-df-quickchart:hover {\n",
              "    background-color: var(--hover-bg-color);\n",
              "    box-shadow: 0 1px 2px rgba(60, 64, 67, 0.3), 0 1px 3px 1px rgba(60, 64, 67, 0.15);\n",
              "    fill: var(--button-hover-fill-color);\n",
              "  }\n",
              "\n",
              "  .colab-df-quickchart-complete:disabled,\n",
              "  .colab-df-quickchart-complete:disabled:hover {\n",
              "    background-color: var(--disabled-bg-color);\n",
              "    fill: var(--disabled-fill-color);\n",
              "    box-shadow: none;\n",
              "  }\n",
              "\n",
              "  .colab-df-spinner {\n",
              "    border: 2px solid var(--fill-color);\n",
              "    border-color: transparent;\n",
              "    border-bottom-color: var(--fill-color);\n",
              "    animation:\n",
              "      spin 1s steps(1) infinite;\n",
              "  }\n",
              "\n",
              "  @keyframes spin {\n",
              "    0% {\n",
              "      border-color: transparent;\n",
              "      border-bottom-color: var(--fill-color);\n",
              "      border-left-color: var(--fill-color);\n",
              "    }\n",
              "    20% {\n",
              "      border-color: transparent;\n",
              "      border-left-color: var(--fill-color);\n",
              "      border-top-color: var(--fill-color);\n",
              "    }\n",
              "    30% {\n",
              "      border-color: transparent;\n",
              "      border-left-color: var(--fill-color);\n",
              "      border-top-color: var(--fill-color);\n",
              "      border-right-color: var(--fill-color);\n",
              "    }\n",
              "    40% {\n",
              "      border-color: transparent;\n",
              "      border-right-color: var(--fill-color);\n",
              "      border-top-color: var(--fill-color);\n",
              "    }\n",
              "    60% {\n",
              "      border-color: transparent;\n",
              "      border-right-color: var(--fill-color);\n",
              "    }\n",
              "    80% {\n",
              "      border-color: transparent;\n",
              "      border-right-color: var(--fill-color);\n",
              "      border-bottom-color: var(--fill-color);\n",
              "    }\n",
              "    90% {\n",
              "      border-color: transparent;\n",
              "      border-bottom-color: var(--fill-color);\n",
              "    }\n",
              "  }\n",
              "</style>\n",
              "\n",
              "  <script>\n",
              "    async function quickchart(key) {\n",
              "      const quickchartButtonEl =\n",
              "        document.querySelector('#' + key + ' button');\n",
              "      quickchartButtonEl.disabled = true;  // To prevent multiple clicks.\n",
              "      quickchartButtonEl.classList.add('colab-df-spinner');\n",
              "      try {\n",
              "        const charts = await google.colab.kernel.invokeFunction(\n",
              "            'suggestCharts', [key], {});\n",
              "      } catch (error) {\n",
              "        console.error('Error during call to suggestCharts:', error);\n",
              "      }\n",
              "      quickchartButtonEl.classList.remove('colab-df-spinner');\n",
              "      quickchartButtonEl.classList.add('colab-df-quickchart-complete');\n",
              "    }\n",
              "    (() => {\n",
              "      let quickchartButtonEl =\n",
              "        document.querySelector('#df-605cf40b-6a73-4be5-b1d1-c63a03896cc4 button');\n",
              "      quickchartButtonEl.style.display =\n",
              "        google.colab.kernel.accessAllowed ? 'block' : 'none';\n",
              "    })();\n",
              "  </script>\n",
              "</div>\n",
              "\n",
              "    </div>\n",
              "  </div>\n"
            ],
            "text/plain": [
              "                                                                                                                                                                                                                                                                                                                                               cleaned_message  \\\n",
              "0                                                                                                                                                                          የሞተ ቆዳን እንዲሁም ቆሻሻን ለማፅዳት ተመራጭ ዋጋ 200 ብር ውስን ፍሬ ነው ያለው አድራሻ መገናኛ መሰረት ደፋር ሞል ሁለተኛ ፎቅ ቢሮ ቁ  ፒያሳ ጊዮርጊስ አደባባይ ራመት ታቦር ኦዳ ህንፃ 1ኛ ፎቅ ሱቅ ቁ 1 ፒያሳ ቅርንጫፍ በ ለማዘዝ ይጠቀሙ ለተጨማሪ ማብራሪያ የቴሌግራም ገፃችን   \n",
              "1                                                                                                                                                                          የሞተ ቆዳን እንዲሁም ቆሻሻን ለማፅዳት ተመራጭ ዋጋ 200 ብር ውስን ፍሬ ነው ያለው አድራሻ መገናኛ መሰረት ደፋር ሞል ሁለተኛ ፎቅ ቢሮ ቁ  ፒያሳ ጊዮርጊስ አደባባይ ራመት ታቦር ኦዳ ህንፃ 1ኛ ፎቅ ሱቅ ቁ 1 ፒያሳ ቅርንጫፍ በ ለማዘዝ ይጠቀሙ ለተጨማሪ ማብራሪያ የቴሌግራም ገፃችን   \n",
              "2                                                                                                                                                      ከብረት የተሰራ ጫማ እና የተለያዩ ዕቃወች ማስቀመጫ ለመገጣጠም ቀላል ባለ ስድስት መደርደሪያ ያለው ዋጋ 2250 ብር አድራሻ መገናኛ መሰረት ደፋር ሞል ሁለተኛ ፎቅ ቢሮ ቁ  ፒያሳ ጊዮርጊስ አደባባይ ራመት ታቦር ኦዳ ህንፃ 1ኛ ፎቅ ሱቅ ቁ 1 ፒያሳ ቅርንጫፍ በ ለማዘዝ ይጠቀሙ ለተጨማሪ ማብራሪያ የቴሌግራም ገፃችን   \n",
              "3  ዘመናዊ የልብስ ማስቀመጫ ቁምሳጥን በቀላሉ የሚገጣጠም የሚነቃቀል ከቦታ ወደ ቦታ ለማንቀሳቀስ የሚመች ቀላል ክብደት ያለው ባለ ዚፕ የሸራ ልብስ ያለው ፍሬሞቹ የብረት ቱቦዎች የሆኑ መገጣጠሚያዎቹ ጠንካራ ካርቦኔትድ ፕላስቲኮች የሆኑ ለቤትዎ ውበት የሚሠጥ ቦታ የማይዝ ሲሆን ቁመት ሳሜ የጎን ስፋት ሳሜ ወርድ ሳሜ ዋጋ 3500 ብር ውስን ፍሬ ነው ያለው አድራሻ መገናኛ መሰረት ደፋር ሞል ሁለተኛ ፎቅ ቢሮ ቁ  ፒያሳ ጊዮርጊስ አደባባይ ራመት ታቦር ኦዳ ህንፃ 1ኛ ፎቅ ሱቅ ቁ 1 ፒያሳ ቅርንጫፍ በ ለማዘዝ ይጠቀሙ ለተጨማሪ ማብራሪያ የቴሌግራም ገፃችን   \n",
              "8                                                                                                                                                                                                        ዋጋ 150 ብር ውስን ፍሬ ነው ያለው አድራሻ መገናኛ መሰረት ደፋር ሞል ሁለተኛ ፎቅ ቢሮ ቁ  ፒያሳ ጊዮርጊስ አደባባይ ራመት ታቦር ኦዳ ህንፃ 1ኛ ፎቅ ሱቅ ቁ 1 ፒያሳ ቅርንጫፍ በ ለማዘዝ ይጠቀሙ ለተጨማሪ ማብራሪያ የቴሌግራም ገፃችን   \n",
              "\n",
              "                                                                                                                                                                                                                                                                                                                                                                                                                                                                                                                                                                                                                                                                  Labeled_Message  \n",
              "0                                                                                                                                                                                                                                                                                      የሞተ O\\nቆዳን O\\nእንዲሁም O\\nቆሻሻን O\\nለማፅዳት O\\nተመራጭ O\\nዋጋ B-PRICE\\n200 I-PRICE\\nብር I-PRICE\\nውስን O\\nፍሬ O\\nነው O\\nያለው O\\nአድራሻ O\\nመገናኛ B-LOC\\nመሰረት I-LOC\\nደፋር I-LOC\\nሞል I-LOC\\nሁለተኛ O\\nፎቅ O\\nቢሮ O\\nቁ O\\nፒያሳ B-LOC\\nጊዮርጊስ I-LOC\\nአደባባይ I-LOC\\nራመት I-LOC\\nታቦር I-LOC\\nኦዳ I-LOC\\nህንፃ I-LOC\\n1ኛ O\\nፎቅ O\\nሱቅ O\\nቁ O\\n1 I-PRICE\\nፒያሳ B-LOC\\nቅርንጫፍ O\\nበ O\\nለማዘዝ O\\nይጠቀሙ O\\nለተጨማሪ O\\nማብራሪያ O\\nየቴሌግራም O\\nገፃችን O  \n",
              "1                                                                                                                                                                                                                                                                                      የሞተ O\\nቆዳን O\\nእንዲሁም O\\nቆሻሻን O\\nለማፅዳት O\\nተመራጭ O\\nዋጋ B-PRICE\\n200 I-PRICE\\nብር I-PRICE\\nውስን O\\nፍሬ O\\nነው O\\nያለው O\\nአድራሻ O\\nመገናኛ B-LOC\\nመሰረት I-LOC\\nደፋር I-LOC\\nሞል I-LOC\\nሁለተኛ O\\nፎቅ O\\nቢሮ O\\nቁ O\\nፒያሳ B-LOC\\nጊዮርጊስ I-LOC\\nአደባባይ I-LOC\\nራመት I-LOC\\nታቦር I-LOC\\nኦዳ I-LOC\\nህንፃ I-LOC\\n1ኛ O\\nፎቅ O\\nሱቅ O\\nቁ O\\n1 I-PRICE\\nፒያሳ B-LOC\\nቅርንጫፍ O\\nበ O\\nለማዘዝ O\\nይጠቀሙ O\\nለተጨማሪ O\\nማብራሪያ O\\nየቴሌግራም O\\nገፃችን O  \n",
              "2                                                                                                                                                                                                                                                         ከብረት O\\nየተሰራ O\\nጫማ O\\nእና O\\nየተለያዩ O\\nዕቃወች O\\nማስቀመጫ O\\nለመገጣጠም O\\nቀላል O\\nባለ O\\nስድስት O\\nመደርደሪያ O\\nያለው O\\nዋጋ B-PRICE\\n2250 I-PRICE\\nብር I-PRICE\\nአድራሻ O\\nመገናኛ B-LOC\\nመሰረት I-LOC\\nደፋር I-LOC\\nሞል I-LOC\\nሁለተኛ O\\nፎቅ O\\nቢሮ O\\nቁ O\\nፒያሳ B-LOC\\nጊዮርጊስ I-LOC\\nአደባባይ I-LOC\\nራመት I-LOC\\nታቦር I-LOC\\nኦዳ I-LOC\\nህንፃ I-LOC\\n1ኛ O\\nፎቅ O\\nሱቅ O\\nቁ O\\n1 I-PRICE\\nፒያሳ B-LOC\\nቅርንጫፍ O\\nበ O\\nለማዘዝ O\\nይጠቀሙ O\\nለተጨማሪ O\\nማብራሪያ O\\nየቴሌግራም O\\nገፃችን O  \n",
              "3  ዘመናዊ O\\nየልብስ O\\nማስቀመጫ O\\nቁምሳጥን O\\nበቀላሉ O\\nየሚገጣጠም O\\nየሚነቃቀል O\\nከቦታ O\\nወደ O\\nቦታ O\\nለማንቀሳቀስ O\\nየሚመች O\\nቀላል O\\nክብደት O\\nያለው O\\nባለ O\\nዚፕ O\\nየሸራ O\\nልብስ O\\nያለው O\\nፍሬሞቹ O\\nየብረት O\\nቱቦዎች O\\nየሆኑ O\\nመገጣጠሚያዎቹ O\\nጠንካራ O\\nካርቦኔትድ O\\nፕላስቲኮች O\\nየሆኑ O\\nለቤትዎ O\\nውበት O\\nየሚሠጥ O\\nቦታ O\\nየማይዝ O\\nሲሆን O\\nቁመት O\\nሳሜ O\\nየጎን O\\nስፋት O\\nሳሜ O\\nወርድ O\\nሳሜ O\\nዋጋ B-PRICE\\n3500 I-PRICE\\nብር I-PRICE\\nውስን O\\nፍሬ O\\nነው O\\nያለው O\\nአድራሻ O\\nመገናኛ B-LOC\\nመሰረት I-LOC\\nደፋር I-LOC\\nሞል I-LOC\\nሁለተኛ O\\nፎቅ O\\nቢሮ O\\nቁ O\\nፒያሳ B-LOC\\nጊዮርጊስ I-LOC\\nአደባባይ I-LOC\\nራመት I-LOC\\nታቦር I-LOC\\nኦዳ I-LOC\\nህንፃ I-LOC\\n1ኛ O\\nፎቅ O\\nሱቅ O\\nቁ O\\n1 I-PRICE\\nፒያሳ B-LOC\\nቅርንጫፍ O\\nበ O\\nለማዘዝ O\\nይጠቀሙ O\\nለተጨማሪ O\\nማብራሪያ O\\nየቴሌግራም O\\nገፃችን O  \n",
              "8                                                                                                                                                                                                                                                                                                                                      ዋጋ B-PRICE\\n150 I-PRICE\\nብር I-PRICE\\nውስን O\\nፍሬ O\\nነው O\\nያለው O\\nአድራሻ O\\nመገናኛ B-LOC\\nመሰረት I-LOC\\nደፋር I-LOC\\nሞል I-LOC\\nሁለተኛ O\\nፎቅ O\\nቢሮ O\\nቁ O\\nፒያሳ B-LOC\\nጊዮርጊስ I-LOC\\nአደባባይ I-LOC\\nራመት I-LOC\\nታቦር I-LOC\\nኦዳ I-LOC\\nህንፃ I-LOC\\n1ኛ O\\nፎቅ O\\nሱቅ O\\nቁ O\\n1 I-PRICE\\nፒያሳ B-LOC\\nቅርንጫፍ O\\nበ O\\nለማዘዝ O\\nይጠቀሙ O\\nለተጨማሪ O\\nማብራሪያ O\\nየቴሌግራም O\\nገፃችን O  "
            ]
          },
          "execution_count": 41,
          "metadata": {},
          "output_type": "execute_result"
        }
      ],
      "source": [
        "# Display the updated DataFrame\n",
        "dft[['cleaned_message', 'Labeled_Message']].head()"
      ]
    },
    {
      "cell_type": "code",
      "execution_count": 129,
      "metadata": {
        "colab": {
          "base_uri": "https://localhost:8080/"
        },
        "id": "C0qFDtMB_UzF",
        "outputId": "04ae5c74-0a4d-467e-9a65-9344376852bc"
      },
      "outputs": [
        {
          "name": "stdout",
          "output_type": "stream",
          "text": [
            "Count of unique entries with numbers in cleaned_message: 3785\n"
          ]
        }
      ],
      "source": [
        "# Check for entries that contain any numbers\n",
        "has_numbers = dft['cleaned_message'].str.contains(r'\\d', na=False)\n",
        "\n",
        "# Count unique entries that contain numbers\n",
        "unique_number_count = has_numbers.sum()\n",
        "print(\"Count of unique entries with numbers in cleaned_message:\", unique_number_count)"
      ]
    },
    {
      "cell_type": "code",
      "execution_count": 27,
      "metadata": {
        "colab": {
          "base_uri": "https://localhost:8080/"
        },
        "id": "S4VblmwWAXas",
        "outputId": "03db5251-70f1-4464-b596-3d960ee1bc4b"
      },
      "outputs": [
        {
          "name": "stdout",
          "output_type": "stream",
          "text": [
            "Text in selected row and column: ዋጋ ርዝመት 160 500 ብር ውስን ፍሬ ነው ያለው አድራሻ መገናኛ መሰረት ደፋር ሞል ሁለተኛ ፎቅ ቢሮ ቁ  ፒያሳ ጊዮርጊስ አደባባይ ራመት ታቦር ኦዳ ህንፃ 1ኛ ፎቅ ሱቅ ቁ 1 ፒያሳ ቅርንጫፍ በ ለማዘዝ ይጠቀሙ ለተጨማሪ ማብራሪያ የቴሌግራም ገፃችን\n",
            "Number of numbers present: 4\n"
          ]
        }
      ],
      "source": [
        "# Select the specific row and column\n",
        "row_index = 681  # For example, the second row\n",
        "selected_column = 'cleaned_message'\n",
        "\n",
        "# Get the text from the selected cell\n",
        "text = dft.loc[row_index, selected_column]\n",
        "\n",
        "# Count numbers using regex\n",
        "numbers = re.findall(r'\\d+', text)  # Find all occurrences of numbers\n",
        "number_count = len(numbers)  # Count how many numbers are found\n",
        "\n",
        "print(f\"Text in selected row and column: {text}\")\n",
        "print(f\"Number of numbers present: {number_count}\")"
      ]
    },
    {
      "cell_type": "code",
      "execution_count": 45,
      "metadata": {
        "id": "pML5_6P2a3DI"
      },
      "outputs": [],
      "source": [
        "# Save the updated labeled dataset to a file in CoNLL format\n",
        "labeled_data_birr_path = 'labeled_telegram_product_price_location.conll'\n",
        "with open(labeled_data_birr_path, 'w', encoding='utf-8') as f:\n",
        "    for index, row in dft.iterrows():\n",
        "        f.write(f\"{row['Labeled_Message']}\\n\\n\")"
      ]
    },
    {
      "cell_type": "markdown",
      "metadata": {
        "id": "FCWRO2SdhYtK"
      },
      "source": [
        "### Tokenizer"
      ]
    },
    {
      "cell_type": "code",
      "execution_count": null,
      "metadata": {
        "id": "dyEzzfDVa3DK",
        "outputId": "5c12a800-1b8c-49ea-f736-23cdee8591e9"
      },
      "outputs": [
        {
          "name": "stdout",
          "output_type": "stream",
          "text": [
            "[{'entity': 'B-LOC', 'score': 0.77822363, 'index': 43, 'word': '▁ስ', 'start': 117, 'end': 118}, {'entity': 'I-LOC', 'score': 0.58282, 'index': 44, 'word': 'ሪ', 'start': 118, 'end': 119}, {'entity': 'I-LOC', 'score': 0.8872894, 'index': 45, 'word': '▁', 'start': 120, 'end': 121}, {'entity': 'I-LOC', 'score': 0.7864612, 'index': 46, 'word': 'ኤም', 'start': 120, 'end': 122}, {'entity': 'I-LOC', 'score': 0.8502413, 'index': 47, 'word': '▁ሲ', 'start': 123, 'end': 124}, {'entity': 'I-LOC', 'score': 0.5737138, 'index': 48, 'word': 'ቲ', 'start': 124, 'end': 125}, {'entity': 'I-LOC', 'score': 0.5543835, 'index': 49, 'word': '▁ሞ', 'start': 126, 'end': 127}, {'entity': 'I-LOC', 'score': 0.8828338, 'index': 50, 'word': 'ል', 'start': 127, 'end': 128}, {'entity': 'I-LOC', 'score': 0.76899004, 'index': 51, 'word': '▁', 'start': 130, 'end': 131}, {'entity': 'I-LOC', 'score': 0.5774763, 'index': 52, 'word': 'ሁለተኛ', 'start': 130, 'end': 134}, {'entity': 'B-LOC', 'score': 0.9574409, 'index': 64, 'word': '▁ሊ', 'start': 153, 'end': 154}, {'entity': 'I-LOC', 'score': 0.9331774, 'index': 65, 'word': 'ፍ', 'start': 154, 'end': 155}, {'entity': 'I-LOC', 'score': 0.98846066, 'index': 66, 'word': 'ቱ', 'start': 155, 'end': 156}, {'entity': 'I-LOC', 'score': 0.545, 'index': 67, 'word': '▁ፊት', 'start': 157, 'end': 159}, {'entity': 'I-ORG', 'score': 0.5013846, 'index': 80, 'word': '▁መ', 'start': 177, 'end': 178}, {'entity': 'I-ORG', 'score': 0.915992, 'index': 81, 'word': 'ዳ', 'start': 178, 'end': 179}, {'entity': 'I-ORG', 'score': 0.94669986, 'index': 82, 'word': 'ህ', 'start': 179, 'end': 180}, {'entity': 'I-ORG', 'score': 0.9730055, 'index': 83, 'word': 'ኒ', 'start': 180, 'end': 181}, {'entity': 'I-ORG', 'score': 0.96530104, 'index': 84, 'word': 'ዓለም', 'start': 181, 'end': 184}, {'entity': 'I-ORG', 'score': 0.962767, 'index': 85, 'word': '▁ቤተ', 'start': 185, 'end': 187}, {'entity': 'I-ORG', 'score': 0.8680226, 'index': 86, 'word': '/', 'start': 187, 'end': 188}, {'entity': 'I-ORG', 'score': 0.9250933, 'index': 87, 'word': 'ክር', 'start': 188, 'end': 190}, {'entity': 'I-ORG', 'score': 0.9565316, 'index': 88, 'word': 'ስቲ', 'start': 190, 'end': 192}, {'entity': 'I-ORG', 'score': 0.8840065, 'index': 89, 'word': 'ያን', 'start': 192, 'end': 194}, {'entity': 'B-LOC', 'score': 0.91544473, 'index': 93, 'word': '▁#', 'start': 203, 'end': 204}, {'entity': 'I-LOC', 'score': 0.7474842, 'index': 94, 'word': 'ዛ', 'start': 204, 'end': 205}, {'entity': 'I-LOC', 'score': 0.9778991, 'index': 95, 'word': 'ም', 'start': 205, 'end': 206}, {'entity': 'I-LOC', 'score': 0.9826668, 'index': 96, 'word': '_', 'start': 206, 'end': 207}, {'entity': 'I-LOC', 'score': 0.992358, 'index': 97, 'word': 'ሞ', 'start': 207, 'end': 208}, {'entity': 'I-LOC', 'score': 0.9859561, 'index': 98, 'word': 'ል', 'start': 208, 'end': 209}, {'entity': 'I-LOC', 'score': 0.9195112, 'index': 99, 'word': '▁2', 'start': 210, 'end': 211}, {'entity': 'B-ORG', 'score': 0.89675534, 'index': 144, 'word': '▁በ', 'start': 304, 'end': 305}, {'entity': 'I-ORG', 'score': 0.4993732, 'index': 146, 'word': 'gram', 'start': 309, 'end': 313}]\n"
          ]
        }
      ],
      "source": [
        "from transformers import AutoTokenizer, AutoModelForTokenClassification\n",
        "from transformers import pipeline\n",
        "tokenizer = AutoTokenizer.from_pretrained(\"masakhane/afroxlmr-large-ner-masakhaner-1.0_2.0\")\n",
        "model = AutoModelForTokenClassification.from_pretrained(\"masakhane/afroxlmr-large-ner-masakhaner-1.0_2.0\")\n",
        "nlp = pipeline(\"ner\", model=model, tokenizer=tokenizer)\n",
        "example = df['Message'][10]\n",
        "ner_results = nlp(example)\n",
        "print(ner_results)"
      ]
    },
    {
      "cell_type": "code",
      "execution_count": 9,
      "metadata": {
        "id": "tE_RJBoAa3DK"
      },
      "outputs": [],
      "source": [
        "df.to_csv('telegram_data.csv', index=False)"
      ]
    },
    {
      "cell_type": "code",
      "execution_count": null,
      "metadata": {
        "id": "Jmo8-lhza3DL"
      },
      "outputs": [],
      "source": [
        "df.to_csv('labeled_data.csv')"
      ]
    }
  ],
  "metadata": {
    "colab": {
      "provenance": []
    },
    "kernelspec": {
      "display_name": "eda",
      "language": "python",
      "name": "python3"
    },
    "language_info": {
      "codemirror_mode": {
        "name": "ipython",
        "version": 3
      },
      "file_extension": ".py",
      "mimetype": "text/x-python",
      "name": "python",
      "nbconvert_exporter": "python",
      "pygments_lexer": "ipython3",
      "version": "3.12.5"
    }
  },
  "nbformat": 4,
  "nbformat_minor": 0
}
